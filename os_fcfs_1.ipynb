{
  "nbformat": 4,
  "nbformat_minor": 0,
  "metadata": {
    "colab": {
      "provenance": [],
      "authorship_tag": "ABX9TyPdKU3yEHkdQFMjKlG/sPdN",
      "include_colab_link": true
    },
    "kernelspec": {
      "name": "python3",
      "display_name": "Python 3"
    },
    "language_info": {
      "name": "python"
    }
  },
  "cells": [
    {
      "cell_type": "markdown",
      "metadata": {
        "id": "view-in-github",
        "colab_type": "text"
      },
      "source": [
        "<a href=\"https://colab.research.google.com/github/sandeepexe/AIML/blob/main/os_fcfs_1.ipynb\" target=\"_parent\"><img src=\"https://colab.research.google.com/assets/colab-badge.svg\" alt=\"Open In Colab\"/></a>"
      ]
    },
    {
      "cell_type": "markdown",
      "source": [
        "FCFS without arrival time"
      ],
      "metadata": {
        "id": "eDg0xLBoZSUF"
      }
    },
    {
      "cell_type": "code",
      "execution_count": 2,
      "metadata": {
        "colab": {
          "base_uri": "https://localhost:8080/"
        },
        "id": "CzAtRtKLVWB_",
        "outputId": "6366c921-f79d-4e5b-fd29-b7de2d2c6e43"
      },
      "outputs": [
        {
          "output_type": "stream",
          "name": "stdout",
          "text": [
            "Processes\tBurst Time\tWaiting Time\tTurnaround Time\n",
            "1 \t\t 5 \t\t 0 \t\t 5\n",
            "2 \t\t 9 \t\t 4 \t\t 13\n",
            "3 \t\t 6 \t\t 12 \t\t 18\n",
            "Average waiting time = 5.333333333333333\n",
            "Average turnaround time = 12.0\n"
          ]
        }
      ],
      "source": [
        "def find_waiting_time(processes, n, bt, wt, at):\n",
        "    service_time = [0] * n\n",
        "    service_time[0] = 0\n",
        "    wt[0] = 0\n",
        "\n",
        "    for i in range(1, n):\n",
        "        service_time[i] = service_time[i - 1] + bt[i - 1]\n",
        "        wt[i] = service_time[i] - at[i]\n",
        "        if wt[i] < 0:\n",
        "            wt[i] = 0\n",
        "\n",
        "def find_turnaround_time(processes, n, bt, wt, tat):\n",
        "    for i in range(n):\n",
        "        tat[i] = bt[i] + wt[i]\n",
        "\n",
        "def find_average_time(processes, n, bt, at):\n",
        "    wt = [0] * n\n",
        "    tat = [0] * n\n",
        "\n",
        "    find_waiting_time(processes, n, bt, wt, at)\n",
        "    find_turnaround_time(processes, n, bt, wt, tat)\n",
        "\n",
        "    total_wt = sum(wt)\n",
        "    total_tat = sum(tat)\n",
        "\n",
        "    print(\"Processes\\tBurst Time\\tWaiting Time\\tTurnaround Time\")\n",
        "    for i in range(n):\n",
        "        print(processes[i], \"\\t\\t\", bt[i], \"\\t\\t\", wt[i], \"\\t\\t\", tat[i])\n",
        "\n",
        "    average_wt = total_wt / n\n",
        "    average_tat = total_tat / n\n",
        "    print(\"Average waiting time =\", average_wt)\n",
        "    print(\"Average turnaround time =\", average_tat)\n",
        "\n",
        "if __name__ == '__main__':\n",
        "    processes = [1, 2, 3]\n",
        "    n = 3\n",
        "    burst_time = [5, 9, 6]\n",
        "    arrival_time = [0, 1, 2]\n",
        "\n",
        "    find_average_time(processes, n, burst_time, arrival_time)\n"
      ]
    },
    {
      "cell_type": "markdown",
      "source": [
        "first"
      ],
      "metadata": {
        "id": "JSByrDKEYp6Q"
      }
    },
    {
      "cell_type": "code",
      "source": [
        "def calculate_waiting_time(at, bt, n):\n",
        "    wt = [0] * n\n",
        "    wt[0] = 0\n",
        "\n",
        "    print(\"P.No.\\tArrival Time\\tBurst Time\\tWaiting Time\")\n",
        "    print(\"1\\t\\t\", at[0], \"\\t\\t\", bt[0], \"\\t\\t\", wt[0])\n",
        "\n",
        "    for i in range(1, n):\n",
        "        wt[i] = (at[i - 1] + bt[i - 1] + wt[i - 1]) - at[i]\n",
        "        print(i + 1, \"\\t\\t\", at[i], \"\\t\\t\", bt[i], \"\\t\\t\", wt[i])\n",
        "\n",
        "    average = sum(wt) / n\n",
        "    print(\"Average waiting time =\", average)\n",
        "\n",
        "if __name__ == '__main__':\n",
        "    n = 5\n",
        "    at = [0, 1, 2, 3, 4]\n",
        "    bt = [4, 3, 1, 2, 5]\n",
        "\n",
        "    calculate_waiting_time(at, bt, n)\n"
      ],
      "metadata": {
        "colab": {
          "base_uri": "https://localhost:8080/"
        },
        "id": "dTT1qijcYraK",
        "outputId": "6a8c1d7e-3e36-4d5e-e070-edbc2e3c9045"
      },
      "execution_count": 3,
      "outputs": [
        {
          "output_type": "stream",
          "name": "stdout",
          "text": [
            "P.No.\tArrival Time\tBurst Time\tWaiting Time\n",
            "1\t\t 0 \t\t 4 \t\t 0\n",
            "2 \t\t 1 \t\t 3 \t\t 3\n",
            "3 \t\t 2 \t\t 1 \t\t 5\n",
            "4 \t\t 3 \t\t 2 \t\t 5\n",
            "5 \t\t 4 \t\t 5 \t\t 6\n",
            "Average waiting time = 3.8\n"
          ]
        }
      ]
    }
  ]
}