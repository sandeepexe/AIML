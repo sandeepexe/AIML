{
  "nbformat": 4,
  "nbformat_minor": 0,
  "metadata": {
    "colab": {
      "provenance": [],
      "authorship_tag": "ABX9TyMBCW+fH2+bNCZbALGSR3z3",
      "include_colab_link": true
    },
    "kernelspec": {
      "name": "python3",
      "display_name": "Python 3"
    },
    "language_info": {
      "name": "python"
    }
  },
  "cells": [
    {
      "cell_type": "markdown",
      "metadata": {
        "id": "view-in-github",
        "colab_type": "text"
      },
      "source": [
        "<a href=\"https://colab.research.google.com/github/sandeepexe/AIML/blob/main/exp7aiml.ipynb\" target=\"_parent\"><img src=\"https://colab.research.google.com/assets/colab-badge.svg\" alt=\"Open In Colab\"/></a>"
      ]
    },
    {
      "cell_type": "markdown",
      "source": [
        "Load the iris dataset from scikit-learn library:"
      ],
      "metadata": {
        "id": "RDX__zREkPnp"
      }
    },
    {
      "cell_type": "code",
      "execution_count": 1,
      "metadata": {
        "id": "67FKPDFqjXxI"
      },
      "outputs": [],
      "source": [
        "from sklearn.datasets import load_iris\n",
        "\n",
        "iris = load_iris()\n",
        "X = iris.data\n",
        "y = iris.target\n"
      ]
    },
    {
      "cell_type": "markdown",
      "source": [
        "Import the necessary libraries for MLR:"
      ],
      "metadata": {
        "id": "UJ-1uY_4kRJW"
      }
    },
    {
      "cell_type": "code",
      "source": [
        "import numpy as np\n",
        "from sklearn.linear_model import LinearRegression\n"
      ],
      "metadata": {
        "id": "3lWalKrdj1e4"
      },
      "execution_count": 2,
      "outputs": []
    },
    {
      "cell_type": "markdown",
      "source": [
        "Create an instance of the LinearRegression model:"
      ],
      "metadata": {
        "id": "it-YYNLfkS7y"
      }
    },
    {
      "cell_type": "code",
      "source": [
        "model = LinearRegression()\n"
      ],
      "metadata": {
        "id": "XBeyNg_Ij3Cg"
      },
      "execution_count": 3,
      "outputs": []
    },
    {
      "cell_type": "markdown",
      "source": [
        "Fit the model to the data:"
      ],
      "metadata": {
        "id": "vlWLftZYkVFz"
      }
    },
    {
      "cell_type": "code",
      "source": [
        "model.fit(X, y)\n"
      ],
      "metadata": {
        "colab": {
          "base_uri": "https://localhost:8080/",
          "height": 52
        },
        "id": "BMTKRWenj4od",
        "outputId": "72800166-3920-4189-b569-155547b1d858"
      },
      "execution_count": 4,
      "outputs": [
        {
          "output_type": "execute_result",
          "data": {
            "text/plain": [
              "LinearRegression()"
            ],
            "text/html": [
              "<style>#sk-container-id-1 {color: black;background-color: white;}#sk-container-id-1 pre{padding: 0;}#sk-container-id-1 div.sk-toggleable {background-color: white;}#sk-container-id-1 label.sk-toggleable__label {cursor: pointer;display: block;width: 100%;margin-bottom: 0;padding: 0.3em;box-sizing: border-box;text-align: center;}#sk-container-id-1 label.sk-toggleable__label-arrow:before {content: \"▸\";float: left;margin-right: 0.25em;color: #696969;}#sk-container-id-1 label.sk-toggleable__label-arrow:hover:before {color: black;}#sk-container-id-1 div.sk-estimator:hover label.sk-toggleable__label-arrow:before {color: black;}#sk-container-id-1 div.sk-toggleable__content {max-height: 0;max-width: 0;overflow: hidden;text-align: left;background-color: #f0f8ff;}#sk-container-id-1 div.sk-toggleable__content pre {margin: 0.2em;color: black;border-radius: 0.25em;background-color: #f0f8ff;}#sk-container-id-1 input.sk-toggleable__control:checked~div.sk-toggleable__content {max-height: 200px;max-width: 100%;overflow: auto;}#sk-container-id-1 input.sk-toggleable__control:checked~label.sk-toggleable__label-arrow:before {content: \"▾\";}#sk-container-id-1 div.sk-estimator input.sk-toggleable__control:checked~label.sk-toggleable__label {background-color: #d4ebff;}#sk-container-id-1 div.sk-label input.sk-toggleable__control:checked~label.sk-toggleable__label {background-color: #d4ebff;}#sk-container-id-1 input.sk-hidden--visually {border: 0;clip: rect(1px 1px 1px 1px);clip: rect(1px, 1px, 1px, 1px);height: 1px;margin: -1px;overflow: hidden;padding: 0;position: absolute;width: 1px;}#sk-container-id-1 div.sk-estimator {font-family: monospace;background-color: #f0f8ff;border: 1px dotted black;border-radius: 0.25em;box-sizing: border-box;margin-bottom: 0.5em;}#sk-container-id-1 div.sk-estimator:hover {background-color: #d4ebff;}#sk-container-id-1 div.sk-parallel-item::after {content: \"\";width: 100%;border-bottom: 1px solid gray;flex-grow: 1;}#sk-container-id-1 div.sk-label:hover label.sk-toggleable__label {background-color: #d4ebff;}#sk-container-id-1 div.sk-serial::before {content: \"\";position: absolute;border-left: 1px solid gray;box-sizing: border-box;top: 0;bottom: 0;left: 50%;z-index: 0;}#sk-container-id-1 div.sk-serial {display: flex;flex-direction: column;align-items: center;background-color: white;padding-right: 0.2em;padding-left: 0.2em;position: relative;}#sk-container-id-1 div.sk-item {position: relative;z-index: 1;}#sk-container-id-1 div.sk-parallel {display: flex;align-items: stretch;justify-content: center;background-color: white;position: relative;}#sk-container-id-1 div.sk-item::before, #sk-container-id-1 div.sk-parallel-item::before {content: \"\";position: absolute;border-left: 1px solid gray;box-sizing: border-box;top: 0;bottom: 0;left: 50%;z-index: -1;}#sk-container-id-1 div.sk-parallel-item {display: flex;flex-direction: column;z-index: 1;position: relative;background-color: white;}#sk-container-id-1 div.sk-parallel-item:first-child::after {align-self: flex-end;width: 50%;}#sk-container-id-1 div.sk-parallel-item:last-child::after {align-self: flex-start;width: 50%;}#sk-container-id-1 div.sk-parallel-item:only-child::after {width: 0;}#sk-container-id-1 div.sk-dashed-wrapped {border: 1px dashed gray;margin: 0 0.4em 0.5em 0.4em;box-sizing: border-box;padding-bottom: 0.4em;background-color: white;}#sk-container-id-1 div.sk-label label {font-family: monospace;font-weight: bold;display: inline-block;line-height: 1.2em;}#sk-container-id-1 div.sk-label-container {text-align: center;}#sk-container-id-1 div.sk-container {/* jupyter's `normalize.less` sets `[hidden] { display: none; }` but bootstrap.min.css set `[hidden] { display: none !important; }` so we also need the `!important` here to be able to override the default hidden behavior on the sphinx rendered scikit-learn.org. See: https://github.com/scikit-learn/scikit-learn/issues/21755 */display: inline-block !important;position: relative;}#sk-container-id-1 div.sk-text-repr-fallback {display: none;}</style><div id=\"sk-container-id-1\" class=\"sk-top-container\"><div class=\"sk-text-repr-fallback\"><pre>LinearRegression()</pre><b>In a Jupyter environment, please rerun this cell to show the HTML representation or trust the notebook. <br />On GitHub, the HTML representation is unable to render, please try loading this page with nbviewer.org.</b></div><div class=\"sk-container\" hidden><div class=\"sk-item\"><div class=\"sk-estimator sk-toggleable\"><input class=\"sk-toggleable__control sk-hidden--visually\" id=\"sk-estimator-id-1\" type=\"checkbox\" checked><label for=\"sk-estimator-id-1\" class=\"sk-toggleable__label sk-toggleable__label-arrow\">LinearRegression</label><div class=\"sk-toggleable__content\"><pre>LinearRegression()</pre></div></div></div></div></div>"
            ]
          },
          "metadata": {},
          "execution_count": 4
        }
      ]
    },
    {
      "cell_type": "markdown",
      "source": [
        "Get the coefficients (weights) and intercept of the MLR model:"
      ],
      "metadata": {
        "id": "eMaq0zJ-kXDt"
      }
    },
    {
      "cell_type": "code",
      "source": [
        "coefficients = model.coef_\n",
        "intercept = model.intercept_\n"
      ],
      "metadata": {
        "id": "4HF8qsgJj594"
      },
      "execution_count": 5,
      "outputs": []
    },
    {
      "cell_type": "code",
      "source": [
        "print(\"Coefficients:\", model.coef_)\n",
        "print(\"Intercept:\", model.intercept_)\n"
      ],
      "metadata": {
        "colab": {
          "base_uri": "https://localhost:8080/"
        },
        "id": "NGOAZDOplehG",
        "outputId": "d971ef7b-945b-4678-c603-ec254c57892d"
      },
      "execution_count": 16,
      "outputs": [
        {
          "output_type": "stream",
          "name": "stdout",
          "text": [
            "Coefficients: [-0.11190585 -0.04007949  0.22864503  0.60925205]\n",
            "Intercept: 0.186495247206249\n"
          ]
        }
      ]
    },
    {
      "cell_type": "markdown",
      "source": [
        "Predict the target variable using the MLR model:"
      ],
      "metadata": {
        "id": "sdLFYdDkkZeb"
      }
    },
    {
      "cell_type": "code",
      "source": [
        "y_pred = model.predict(X)\n",
        "print(\"Predicted values:\", y_pred)\n"
      ],
      "metadata": {
        "colab": {
          "base_uri": "https://localhost:8080/"
        },
        "id": "CNj6sxxJj7Ty",
        "outputId": "345a3714-13e6-40ae-9328-cd99f55c6cd7"
      },
      "execution_count": 17,
      "outputs": [
        {
          "output_type": "stream",
          "name": "stdout",
          "text": [
            "Predicted values: [-8.25493616e-02 -4.01284476e-02 -4.86276768e-02  1.22998627e-02\n",
            " -7.53667248e-02  5.82910066e-02  3.83367194e-02 -4.44863248e-02\n",
            "  1.98324281e-02 -8.21970989e-02 -1.01272512e-01  7.59348686e-04\n",
            " -8.98630676e-02 -1.02503649e-01 -2.26652208e-01 -4.10494982e-02\n",
            " -3.31670043e-02 -2.16241562e-02 -3.21980063e-02 -1.07834994e-02\n",
            " -4.35196609e-02  5.41496547e-02 -1.22062394e-01  1.76835660e-01\n",
            "  6.93528569e-02 -5.59002750e-03  1.00228589e-01 -7.08754443e-02\n",
            " -8.97319983e-02  1.99658314e-02  1.27831946e-02  3.26017444e-02\n",
            " -1.55848342e-01 -1.55367344e-01 -2.12718935e-02 -1.05063936e-01\n",
            " -1.50176206e-01 -1.25101345e-01 -7.04002332e-03 -5.56769102e-02\n",
            " -3.32980735e-02  7.07502372e-02 -1.50559206e-02  2.18071051e-01\n",
            "  1.41599717e-01  3.19873432e-02 -4.88442021e-02 -1.45725887e-02\n",
            " -9.00819270e-02 -6.33428789e-02  1.20248442e+00  1.28482413e+00\n",
            "  1.32433716e+00  1.18543801e+00  1.31252984e+00  1.25733961e+00\n",
            "  1.39866098e+00  9.05746439e-01  1.17548090e+00  1.24103868e+00\n",
            "  9.56316654e-01  1.28019945e+00  9.50717416e-01  1.31522353e+00\n",
            "  1.05874172e+00  1.17147061e+00  1.38236471e+00  9.75923347e-01\n",
            "  1.34728479e+00  1.02151661e+00  1.59214618e+00  1.09825476e+00\n",
            "  1.41552837e+00  1.19738107e+00  1.12926856e+00  1.18666915e+00\n",
            "  1.26376188e+00  1.49544119e+00  1.34161032e+00  8.53934864e-01\n",
            "  1.01385065e+00  9.30060938e-01  1.05204475e+00  1.54773844e+00\n",
            "  1.40474588e+00  1.38249578e+00  1.30098933e+00  1.18737134e+00\n",
            "  1.16905629e+00  1.17742211e+00  1.20394697e+00  1.28835108e+00\n",
            "  1.07891720e+00  8.98563803e-01  1.20394464e+00  1.11980500e+00\n",
            "  1.18473815e+00  1.15164973e+00  8.71689017e-01  1.16588160e+00\n",
            "  2.24422636e+00  1.75289522e+00  1.90016020e+00  1.74232371e+00\n",
            "  2.00536441e+00  2.00425879e+00  1.60258896e+00  1.79046937e+00\n",
            "  1.75932217e+00  2.15435175e+00  1.71544659e+00  1.73148072e+00\n",
            "  1.84227394e+00  1.81016241e+00  2.05351330e+00  1.95514179e+00\n",
            "  1.69307008e+00  2.04479432e+00  2.19954392e+00  1.48398847e+00\n",
            "  1.99064688e+00  1.78646464e+00  1.96302340e+00  1.59028808e+00\n",
            "  1.88716969e+00  1.72104260e+00  1.57460622e+00  1.60064541e+00\n",
            "  1.91791669e+00  1.56147908e+00  1.79848293e+00  1.83196924e+00\n",
            "  1.97884189e+00  1.44923353e+00  1.53302790e+00  2.00059610e+00\n",
            "  2.08783520e+00  1.70025272e+00  1.58897149e+00  1.80421091e+00\n",
            "  2.05509670e+00  1.85746781e+00  1.75289522e+00  2.04756647e+00\n",
            "  2.13087051e+00  1.90672143e+00  1.68209369e+00  1.74632699e+00\n",
            "  1.99237157e+00  1.66875559e+00]\n"
          ]
        }
      ]
    },
    {
      "cell_type": "markdown",
      "source": [
        "Evaluate the performance of the MLR model using appropriate metrics (e.g., mean squared error, R-squared):"
      ],
      "metadata": {
        "id": "N3NfU6pXkcY2"
      }
    },
    {
      "cell_type": "code",
      "source": [
        "from sklearn.metrics import mean_squared_error, r2_score\n",
        "\n",
        "# Calculate the mean squared error (MSE)\n",
        "mse = mean_squared_error(y, y_pred)\n",
        "print(\"Mean Squared Error:\", mse)\n",
        "\n",
        "# Calculate the coefficient of determination (R-squared)\n",
        "r2 = r2_score(y, y_pred)\n",
        "print(\"R-squared:\", r2)\n"
      ],
      "metadata": {
        "colab": {
          "base_uri": "https://localhost:8080/"
        },
        "id": "W5WIUaYrj9u3",
        "outputId": "0e65dfaa-43d4-4b36-c532-b1e0773f1468"
      },
      "execution_count": 18,
      "outputs": [
        {
          "output_type": "stream",
          "name": "stdout",
          "text": [
            "Mean Squared Error: 0.04640405209669576\n",
            "R-squared: 0.9303939218549564\n"
          ]
        }
      ]
    },
    {
      "cell_type": "markdown",
      "source": [
        "feature selection"
      ],
      "metadata": {
        "id": "NNF02YXskiIE"
      }
    },
    {
      "cell_type": "code",
      "source": [
        "from sklearn.feature_selection import SelectKBest, f_regression\n",
        "\n",
        "# Select the top 2 features using the f_regression scoring function\n",
        "selector = SelectKBest(score_func=f_regression, k=2)\n",
        "X_selected = selector.fit_transform(X, y)\n",
        "\n",
        "# Get the selected feature indices\n",
        "selected_indices = selector.get_support(indices=True)\n",
        "selected_features = [iris.feature_names[i] for i in selected_indices]\n",
        "\n",
        "# Print the selected features\n",
        "print(\"Selected Features:\")\n",
        "for feature in selected_features:\n",
        "    print(feature)\n",
        "\n"
      ],
      "metadata": {
        "colab": {
          "base_uri": "https://localhost:8080/"
        },
        "id": "X_iQOgSkkkFS",
        "outputId": "8d040005-0ceb-4e8c-9803-4f9a0840b2a8"
      },
      "execution_count": 15,
      "outputs": [
        {
          "output_type": "stream",
          "name": "stdout",
          "text": [
            "Selected Features:\n",
            "petal length (cm)\n",
            "petal width (cm)\n"
          ]
        }
      ]
    },
    {
      "cell_type": "markdown",
      "source": [
        "Cross-Validation: MLR can be used with cross-validation to evaluate the model's performance and assess its generalization ability. Here's an example using k-fold cross-validation:"
      ],
      "metadata": {
        "id": "nK0FWaCbkvKJ"
      }
    },
    {
      "cell_type": "code",
      "source": [
        "from sklearn.model_selection import cross_val_score\n",
        "\n",
        "# Perform 5-fold cross-validation\n",
        "scores = cross_val_score(model, X, y, cv=5)\n",
        "print(\"Cross-Validation Scores:\", scores)\n",
        "\n",
        "# Calculate the average score\n",
        "average_score = np.mean(scores)\n",
        "print(\"Average Score:\", average_score)"
      ],
      "metadata": {
        "colab": {
          "base_uri": "https://localhost:8080/"
        },
        "id": "SmDhW4Odkwph",
        "outputId": "ba359b54-6461-4a7e-9792-c69ea1a25667"
      },
      "execution_count": 19,
      "outputs": [
        {
          "output_type": "stream",
          "name": "stdout",
          "text": [
            "Cross-Validation Scores: [0.         0.85124923 0.         0.76155439 0.        ]\n",
            "Average Score: 0.3225607248900085\n"
          ]
        }
      ]
    },
    {
      "cell_type": "markdown",
      "source": [
        "Regularization: MLR can be combined with regularization techniques like Ridge or Lasso regression to prevent overfitting and improve model performance. Here's an example using Ridge regression:"
      ],
      "metadata": {
        "id": "C-3lej9Skx6l"
      }
    },
    {
      "cell_type": "code",
      "source": [
        "# Create an instance of the Ridge regression model\n",
        "ridge_model = Ridge(alpha=0.5)\n",
        "\n",
        "# Fit the model to the data\n",
        "ridge_model.fit(X, y)\n",
        "\n",
        "# Get the coefficients and intercept of the Ridge model\n",
        "ridge_coefficients = ridge_model.coef_\n",
        "ridge_intercept = ridge_model.intercept_\n",
        "\n",
        "# Print the coefficients and intercept of the Ridge model\n",
        "print(\"Coefficients (Ridge):\", ridge_coefficients)\n",
        "print(\"Intercept (Ridge):\", ridge_intercept)"
      ],
      "metadata": {
        "colab": {
          "base_uri": "https://localhost:8080/"
        },
        "id": "48wrKt1DkzsC",
        "outputId": "9a47c203-fc5f-4c09-be43-abe92ceb2775"
      },
      "execution_count": 20,
      "outputs": [
        {
          "output_type": "stream",
          "name": "stdout",
          "text": [
            "Coefficients (Ridge): [-0.11369116 -0.03489867  0.24607889  0.56975589]\n",
            "Intercept (Ridge): 0.16294053297313782\n"
          ]
        }
      ]
    },
    {
      "cell_type": "markdown",
      "source": [
        "overall code[link text]())"
      ],
      "metadata": {
        "id": "2p8aOIClmVPT"
      }
    },
    {
      "cell_type": "code",
      "source": [
        "from sklearn.datasets import load_iris\n",
        "from sklearn.linear_model import LinearRegression, Ridge\n",
        "from sklearn.metrics import mean_squared_error, r2_score\n",
        "from sklearn.model_selection import cross_val_score\n",
        "import numpy as np\n",
        "\n",
        "# Load the iris dataset\n",
        "iris = load_iris()\n",
        "\n",
        "# Prepare the data for MLR\n",
        "X = iris.data[:, :2]  # Use the first two features as independent variables\n",
        "y = iris.target  # Use the target variable as the dependent variable\n",
        "\n",
        "# Create an instance of the LinearRegression model\n",
        "model = LinearRegression()\n",
        "\n",
        "# Fit the model to the data\n",
        "model.fit(X, y)\n",
        "\n",
        "# Predict the target variable using the MLR model\n",
        "y_pred = model.predict(X)\n",
        "\n",
        "# Print the coefficients and intercept of the MLR model\n",
        "print(\"Coefficients (MLR):\", model.coef_)\n",
        "print(\"Intercept (MLR):\", model.intercept_)\n",
        "\n",
        "# Calculate the mean squared error (MSE) for MLR\n",
        "mse = mean_squared_error(y, y_pred)\n",
        "print(\"Mean Squared Error (MLR):\", mse)\n",
        "\n",
        "# Calculate the coefficient of determination (R-squared) for MLR\n",
        "r2 = r2_score(y, y_pred)\n",
        "print(\"R-squared (MLR):\", r2)\n",
        "\n",
        "# Perform 5-fold cross-validation for MLR\n",
        "scores = cross_val_score(model, X, y, cv=5)\n",
        "print(\"Cross-Validation Scores (MLR):\", scores)\n",
        "\n",
        "# Calculate the average score for MLR\n",
        "average_score = np.mean(scores)\n",
        "print(\"Average Score (MLR):\", average_score)\n",
        "\n",
        "# Create an instance of the Ridge regression model\n",
        "ridge_model = Ridge(alpha=0.5)\n",
        "\n",
        "# Fit the model to the data\n",
        "ridge_model.fit(X, y)\n",
        "\n",
        "# Get the coefficients and intercept of the Ridge model\n",
        "ridge_coefficients = ridge_model.coef_\n",
        "ridge_intercept = ridge_model.intercept_\n",
        "\n",
        "# Print the coefficients and intercept of the Ridge model\n",
        "print(\"Coefficients (Ridge):\", ridge_coefficients)\n",
        "print(\"Intercept (Ridge):\", ridge_intercept)\n"
      ],
      "metadata": {
        "id": "9QhWkZgNmbUM",
        "outputId": "c169e643-ab24-4b03-a9d7-8417f29fb24e",
        "colab": {
          "base_uri": "https://localhost:8080/"
        }
      },
      "execution_count": 21,
      "outputs": [
        {
          "output_type": "stream",
          "name": "stdout",
          "text": [
            "Coefficients (MLR): [ 0.73474169 -0.63781099]\n",
            "Intercept (MLR): -1.3433397922944712\n",
            "Mean Squared Error (MLR): 0.18269081973947734\n",
            "R-squared (MLR): 0.725963770390784\n",
            "Cross-Validation Scores (MLR): [ 0.          0.37330065  0.         -0.29412002  0.        ]\n",
            "Average Score (MLR): 0.015836126805801664\n",
            "Coefficients (Ridge): [ 0.73180553 -0.62738499]\n",
            "Intercept (Ridge): -1.3580585894321247\n"
          ]
        }
      ]
    }
  ]
}